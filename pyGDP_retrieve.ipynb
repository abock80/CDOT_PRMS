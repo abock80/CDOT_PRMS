{
 "cells": [
  {
   "cell_type": "code",
   "execution_count": null,
   "metadata": {
    "collapsed": true
   },
   "outputs": [],
   "source": [
    "# This is a script/ipython notebook to summarize area-weighted precipitation and temperature data by HRU \n",
    "# for a specific area of interest"
   ]
  },
  {
   "cell_type": "code",
   "execution_count": 1,
   "metadata": {
    "collapsed": true
   },
   "outputs": [],
   "source": [
    "import pyGDP,os\n",
    "import pprint\n",
    "pyGDP=pyGDP.pyGDPwebProcessing()\n",
    "thisdir = os.getcwd()"
   ]
  },
  {
   "cell_type": "code",
   "execution_count": 2,
   "metadata": {
    "collapsed": false
   },
   "outputs": [
    {
     "name": "stdout",
     "output_type": "stream",
     "text": [
      "upload:R10L_16\n",
      "upload:nrhu_selection\n",
      "upload:CIDA_TEST_\n",
      "upload:R11_1046\n",
      "sample:Alaska\n",
      "sample:simplified_HUC8s\n",
      "sample:CONUS_states\n",
      "upload:_2\n",
      "upload:R14_786\n",
      "upload:_4\n",
      "derivative:wbdhu8_alb_simp\n",
      "upload:nrhu_selection_Gallatin\n",
      "derivative:CONUS_States\n",
      "upload:R14_787\n",
      "sample:CSC_Boundaries\n",
      "sample:FWS_LCC\n",
      "derivative:NCA_Regions\n",
      "derivative:Level_III_Ecoregions\n",
      "derivative:FWS_LCC\n",
      "draw:test\n",
      "derivative:US_Counties\n",
      "sample:CONUS_Climate_Divisions\n",
      "sample:nps_boundary_2013\n",
      "upload:R10L_56\n"
     ]
    }
   ],
   "source": [
    "shapefiles = pyGDP.getShapefiles()\n",
    "#prints 'Available shapefiles: '\n",
    "for shapefile in shapefiles:\n",
    "    print shapefile\n",
    "\n",
    "# will need to manually upload shapefiles to GDP until we get the shapetoZip/upload shapefile function working    "
   ]
  },
  {
   "cell_type": "code",
   "execution_count": 18,
   "metadata": {
    "collapsed": false
   },
   "outputs": [],
   "source": [
    "# shapefile to use on the GDP\n",
    "shapefile=\"upload:R10L_56\"\n",
    "names=shapefile.split(\":\")[1]\n",
    "#attributes = pyGDP.getAttributes(shapefile)\n",
    "#for attr in attributes:\n",
    "#    print attr"
   ]
  },
  {
   "cell_type": "code",
   "execution_count": 19,
   "metadata": {
    "collapsed": false
   },
   "outputs": [],
   "source": [
    "usr_attribute=\"hru_id\"\n",
    "usr_values=None\n",
    "#usr_values = pyGDP.getValues(shapefile, usr_attribute)\n",
    "#for v in values:\n",
    "#    print v"
   ]
  },
  {
   "cell_type": "code",
   "execution_count": 7,
   "metadata": {
    "collapsed": false
   },
   "outputs": [
    {
     "name": "stdout",
     "output_type": "stream",
     "text": [
      "dayl\n",
      "prcp\n",
      "srad\n",
      "swe\n",
      "tmax\n",
      "tmin\n",
      "vp\n",
      "lat\n",
      "lon\n"
     ]
    }
   ],
   "source": [
    "# Set our datasetURI\n",
    "#dataSetURI = 'dods://cida.usgs.gov/thredds/dodsC/prism'\n",
    "dataSetURI = 'http://thredds.daac.ornl.gov/thredds/dodsC/daymet-agg/daymet-agg.ncml'\n",
    "# Get the available data types associated with the dataset\n",
    "datatypes = pyGDP.getDataType(dataSetURI)\n",
    "for dt in datatypes:\n",
    "\tprint dt"
   ]
  },
  {
   "cell_type": "code",
   "execution_count": 9,
   "metadata": {
    "collapsed": false
   },
   "outputs": [
    {
     "name": "stdout",
     "output_type": "stream",
     "text": [
      "1980-01-01T12:00:00Z\n",
      "2014-12-31T12:00:00Z\n"
     ]
    }
   ],
   "source": [
    "# Set the dataType. Note that leaving dataType out below will select all.\n",
    "# Get available time range on the dataset\n",
    "dataType='prcp'\n",
    "timeRange = pyGDP.getTimeRange(dataSetURI, dataType)\n",
    "for t in timeRange:\n",
    "    print t"
   ]
  },
  {
   "cell_type": "code",
   "execution_count": 14,
   "metadata": {
    "collapsed": false
   },
   "outputs": [
    {
     "name": "stdout",
     "output_type": "stream",
     "text": [
      "All shapefile attributes will be used.\n",
      "gdp_gov-usgs-cida-gdp-wps-algorithm-FeatureWeightedGridStatisticsAlgorithm_2016-02-18T10-06-07-Mountain Standard Time\n"
     ]
    }
   ],
   "source": [
    "# Submit job to pyGDP\n",
    "# result is area-weighted mean in CSV for given datatype\n",
    "path = pyGDP.submitFeatureWeightedGridStatistics(shapefile, dataSetURI, dataType, timeRange[0], timeRange[1], usr_attribute, usr_values, gmlIDs=None, verbose=True)\n",
    "print path\n",
    "import shutil\n",
    "shutil.copy2(path, names+'_'+dataType)"
   ]
  },
  {
   "cell_type": "code",
   "execution_count": 20,
   "metadata": {
    "collapsed": true
   },
   "outputs": [],
   "source": [
    "datatype=\"tmax\"\n",
    "path = pyGDP.submitFeatureWeightedGridStatistics(shapefile, dataSetURI, dataType, timeRange[0], timeRange[1], usr_attribute, usr_values, gmlIDs=None, verbose=True)\n",
    "print path\n",
    "import shutil\n",
    "shutil.copy2(path, names+'_'+dataType)"
   ]
  },
  {
   "cell_type": "code",
   "execution_count": 17,
   "metadata": {
    "collapsed": false
   },
   "outputs": [
    {
     "name": "stdout",
     "output_type": "stream",
     "text": [
      "F:\\\n"
     ]
    }
   ],
   "source": [
    "datatype=\"tmin\"\n",
    "path = pyGDP.submitFeatureWeightedGridStatistics(shapefile, dataSetURI, dataType, timeRange[0], timeRange[1], usr_attribute, usr_values, gmlIDs=None, verbose=True)\n",
    "print path\n",
    "import shutil\n",
    "shutil.copy2(path, names+'_'+dataType)"
   ]
  },
  {
   "cell_type": "code",
   "execution_count": null,
   "metadata": {
    "collapsed": true
   },
   "outputs": [],
   "source": []
  }
 ],
 "metadata": {
  "kernelspec": {
   "display_name": "Python 2",
   "language": "python",
   "name": "python2"
  },
  "language_info": {
   "codemirror_mode": {
    "name": "ipython",
    "version": 2
   },
   "file_extension": ".py",
   "mimetype": "text/x-python",
   "name": "python",
   "nbconvert_exporter": "python",
   "pygments_lexer": "ipython2",
   "version": "2.7.11"
  }
 },
 "nbformat": 4,
 "nbformat_minor": 0
}
